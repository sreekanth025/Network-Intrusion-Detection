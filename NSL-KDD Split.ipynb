{
 "cells": [
  {
   "cell_type": "code",
   "execution_count": 1,
   "id": "0e21a562",
   "metadata": {},
   "outputs": [],
   "source": [
    "import pandas as pd\n",
    "import numpy as np"
   ]
  },
  {
   "cell_type": "code",
   "execution_count": 2,
   "id": "44746695",
   "metadata": {},
   "outputs": [
    {
     "data": {
      "text/html": [
       "<div>\n",
       "<style scoped>\n",
       "    .dataframe tbody tr th:only-of-type {\n",
       "        vertical-align: middle;\n",
       "    }\n",
       "\n",
       "    .dataframe tbody tr th {\n",
       "        vertical-align: top;\n",
       "    }\n",
       "\n",
       "    .dataframe thead th {\n",
       "        text-align: right;\n",
       "    }\n",
       "</style>\n",
       "<table border=\"1\" class=\"dataframe\">\n",
       "  <thead>\n",
       "    <tr style=\"text-align: right;\">\n",
       "      <th></th>\n",
       "      <th>duration</th>\n",
       "      <th>protocol_type</th>\n",
       "      <th>service</th>\n",
       "      <th>flag</th>\n",
       "      <th>src_bytes</th>\n",
       "      <th>dst_bytes</th>\n",
       "      <th>land</th>\n",
       "      <th>wrong_fragment</th>\n",
       "      <th>urgent</th>\n",
       "      <th>hot</th>\n",
       "      <th>...</th>\n",
       "      <th>dst_host_same_srv_rate</th>\n",
       "      <th>dst_host_diff_srv_rate</th>\n",
       "      <th>dst_host_same_src_port_rate</th>\n",
       "      <th>dst_host_srv_diff_host_rate</th>\n",
       "      <th>dst_host_serror_rate</th>\n",
       "      <th>dst_host_srv_serror_rate</th>\n",
       "      <th>dst_host_rerror_rate</th>\n",
       "      <th>dst_host_srv_rerror_rate</th>\n",
       "      <th>class</th>\n",
       "      <th>difficulty_level</th>\n",
       "    </tr>\n",
       "  </thead>\n",
       "  <tbody>\n",
       "    <tr>\n",
       "      <th>0</th>\n",
       "      <td>0</td>\n",
       "      <td>tcp</td>\n",
       "      <td>ftp_data</td>\n",
       "      <td>SF</td>\n",
       "      <td>491</td>\n",
       "      <td>0</td>\n",
       "      <td>0</td>\n",
       "      <td>0</td>\n",
       "      <td>0</td>\n",
       "      <td>0</td>\n",
       "      <td>...</td>\n",
       "      <td>0.17</td>\n",
       "      <td>0.03</td>\n",
       "      <td>0.17</td>\n",
       "      <td>0.00</td>\n",
       "      <td>0.00</td>\n",
       "      <td>0.00</td>\n",
       "      <td>0.05</td>\n",
       "      <td>0.00</td>\n",
       "      <td>normal</td>\n",
       "      <td>20</td>\n",
       "    </tr>\n",
       "    <tr>\n",
       "      <th>1</th>\n",
       "      <td>0</td>\n",
       "      <td>udp</td>\n",
       "      <td>other</td>\n",
       "      <td>SF</td>\n",
       "      <td>146</td>\n",
       "      <td>0</td>\n",
       "      <td>0</td>\n",
       "      <td>0</td>\n",
       "      <td>0</td>\n",
       "      <td>0</td>\n",
       "      <td>...</td>\n",
       "      <td>0.00</td>\n",
       "      <td>0.60</td>\n",
       "      <td>0.88</td>\n",
       "      <td>0.00</td>\n",
       "      <td>0.00</td>\n",
       "      <td>0.00</td>\n",
       "      <td>0.00</td>\n",
       "      <td>0.00</td>\n",
       "      <td>normal</td>\n",
       "      <td>15</td>\n",
       "    </tr>\n",
       "    <tr>\n",
       "      <th>2</th>\n",
       "      <td>0</td>\n",
       "      <td>tcp</td>\n",
       "      <td>private</td>\n",
       "      <td>S0</td>\n",
       "      <td>0</td>\n",
       "      <td>0</td>\n",
       "      <td>0</td>\n",
       "      <td>0</td>\n",
       "      <td>0</td>\n",
       "      <td>0</td>\n",
       "      <td>...</td>\n",
       "      <td>0.10</td>\n",
       "      <td>0.05</td>\n",
       "      <td>0.00</td>\n",
       "      <td>0.00</td>\n",
       "      <td>1.00</td>\n",
       "      <td>1.00</td>\n",
       "      <td>0.00</td>\n",
       "      <td>0.00</td>\n",
       "      <td>dos</td>\n",
       "      <td>19</td>\n",
       "    </tr>\n",
       "    <tr>\n",
       "      <th>3</th>\n",
       "      <td>0</td>\n",
       "      <td>tcp</td>\n",
       "      <td>http</td>\n",
       "      <td>SF</td>\n",
       "      <td>232</td>\n",
       "      <td>8153</td>\n",
       "      <td>0</td>\n",
       "      <td>0</td>\n",
       "      <td>0</td>\n",
       "      <td>0</td>\n",
       "      <td>...</td>\n",
       "      <td>1.00</td>\n",
       "      <td>0.00</td>\n",
       "      <td>0.03</td>\n",
       "      <td>0.04</td>\n",
       "      <td>0.03</td>\n",
       "      <td>0.01</td>\n",
       "      <td>0.00</td>\n",
       "      <td>0.01</td>\n",
       "      <td>normal</td>\n",
       "      <td>21</td>\n",
       "    </tr>\n",
       "    <tr>\n",
       "      <th>4</th>\n",
       "      <td>0</td>\n",
       "      <td>tcp</td>\n",
       "      <td>http</td>\n",
       "      <td>SF</td>\n",
       "      <td>199</td>\n",
       "      <td>420</td>\n",
       "      <td>0</td>\n",
       "      <td>0</td>\n",
       "      <td>0</td>\n",
       "      <td>0</td>\n",
       "      <td>...</td>\n",
       "      <td>1.00</td>\n",
       "      <td>0.00</td>\n",
       "      <td>0.00</td>\n",
       "      <td>0.00</td>\n",
       "      <td>0.00</td>\n",
       "      <td>0.00</td>\n",
       "      <td>0.00</td>\n",
       "      <td>0.00</td>\n",
       "      <td>normal</td>\n",
       "      <td>21</td>\n",
       "    </tr>\n",
       "  </tbody>\n",
       "</table>\n",
       "<p>5 rows × 43 columns</p>\n",
       "</div>"
      ],
      "text/plain": [
       "   duration protocol_type   service flag  src_bytes  dst_bytes  land  \\\n",
       "0         0           tcp  ftp_data   SF        491          0     0   \n",
       "1         0           udp     other   SF        146          0     0   \n",
       "2         0           tcp   private   S0          0          0     0   \n",
       "3         0           tcp      http   SF        232       8153     0   \n",
       "4         0           tcp      http   SF        199        420     0   \n",
       "\n",
       "   wrong_fragment  urgent  hot  ...  dst_host_same_srv_rate  \\\n",
       "0               0       0    0  ...                    0.17   \n",
       "1               0       0    0  ...                    0.00   \n",
       "2               0       0    0  ...                    0.10   \n",
       "3               0       0    0  ...                    1.00   \n",
       "4               0       0    0  ...                    1.00   \n",
       "\n",
       "   dst_host_diff_srv_rate  dst_host_same_src_port_rate  \\\n",
       "0                    0.03                         0.17   \n",
       "1                    0.60                         0.88   \n",
       "2                    0.05                         0.00   \n",
       "3                    0.00                         0.03   \n",
       "4                    0.00                         0.00   \n",
       "\n",
       "   dst_host_srv_diff_host_rate  dst_host_serror_rate  \\\n",
       "0                         0.00                  0.00   \n",
       "1                         0.00                  0.00   \n",
       "2                         0.00                  1.00   \n",
       "3                         0.04                  0.03   \n",
       "4                         0.00                  0.00   \n",
       "\n",
       "   dst_host_srv_serror_rate  dst_host_rerror_rate  dst_host_srv_rerror_rate  \\\n",
       "0                      0.00                  0.05                      0.00   \n",
       "1                      0.00                  0.00                      0.00   \n",
       "2                      1.00                  0.00                      0.00   \n",
       "3                      0.01                  0.00                      0.01   \n",
       "4                      0.00                  0.00                      0.00   \n",
       "\n",
       "    class  difficulty_level  \n",
       "0  normal                20  \n",
       "1  normal                15  \n",
       "2     dos                19  \n",
       "3  normal                21  \n",
       "4  normal                21  \n",
       "\n",
       "[5 rows x 43 columns]"
      ]
     },
     "execution_count": 2,
     "metadata": {},
     "output_type": "execute_result"
    }
   ],
   "source": [
    "nsl_kdd = pd.read_csv(\"data/nsl_kdd.csv\")\n",
    "nsl_kdd.head()"
   ]
  },
  {
   "cell_type": "code",
   "execution_count": 3,
   "id": "485f51b3",
   "metadata": {},
   "outputs": [
    {
     "data": {
      "text/plain": [
       "count     125973\n",
       "unique         5\n",
       "top       normal\n",
       "freq       67343\n",
       "Name: class, dtype: object"
      ]
     },
     "execution_count": 3,
     "metadata": {},
     "output_type": "execute_result"
    }
   ],
   "source": [
    "nsl_kdd['class'].describe()"
   ]
  },
  {
   "cell_type": "code",
   "execution_count": 4,
   "id": "f7a3f6c2",
   "metadata": {},
   "outputs": [
    {
     "data": {
      "text/plain": [
       "normal    67343\n",
       "dos       45927\n",
       "probe     11656\n",
       "r2l         995\n",
       "u2r          52\n",
       "Name: class, dtype: int64"
      ]
     },
     "execution_count": 4,
     "metadata": {},
     "output_type": "execute_result"
    }
   ],
   "source": [
    "nsl_kdd['class'].value_counts()"
   ]
  },
  {
   "cell_type": "code",
   "execution_count": 5,
   "id": "4954148d",
   "metadata": {},
   "outputs": [],
   "source": [
    "dos_df = nsl_kdd.loc[nsl_kdd['class'] == 'dos']\n",
    "probe_df = nsl_kdd.loc[nsl_kdd['class'] == 'probe']\n",
    "r2l_df = nsl_kdd.loc[nsl_kdd['class'] == 'r2l']\n",
    "u2r_df = nsl_kdd.loc[nsl_kdd['class'] == 'u2r']\n",
    "normal_df = nsl_kdd.loc[nsl_kdd['class'] == 'normal']"
   ]
  },
  {
   "cell_type": "code",
   "execution_count": 6,
   "id": "4d962d0a",
   "metadata": {},
   "outputs": [
    {
     "name": "stdout",
     "output_type": "stream",
     "text": [
      "[45927, 11656, 995, 52]\n"
     ]
    }
   ],
   "source": [
    "attack_samples = []\n",
    "\n",
    "attack_samples.append(dos_df.shape[0])\n",
    "attack_samples.append(probe_df.shape[0])\n",
    "attack_samples.append(r2l_df.shape[0])\n",
    "attack_samples.append(u2r_df.shape[0])\n",
    "\n",
    "print(attack_samples)"
   ]
  },
  {
   "cell_type": "code",
   "execution_count": 7,
   "id": "15da53a9",
   "metadata": {},
   "outputs": [],
   "source": [
    "def normalize(arr):\n",
    "    total_sum = sum(arr)\n",
    "    result = [x/total_sum for x in arr]\n",
    "    return result"
   ]
  },
  {
   "cell_type": "code",
   "execution_count": 8,
   "id": "0a7187ed",
   "metadata": {},
   "outputs": [
    {
     "name": "stdout",
     "output_type": "stream",
     "text": [
      "[0.7833361760191029, 0.1988060719768037, 0.016970834044004776, 0.0008869179600886918]\n"
     ]
    }
   ],
   "source": [
    "samples_ratio = normalize(attack_samples)\n",
    "print(samples_ratio)"
   ]
  },
  {
   "cell_type": "code",
   "execution_count": 9,
   "id": "593e2b3f",
   "metadata": {},
   "outputs": [
    {
     "name": "stdout",
     "output_type": "stream",
     "text": [
      "[52752, 13388, 1142, 59]\n"
     ]
    }
   ],
   "source": [
    "normal_samples = [int(normal_df.shape[0] * i) for i in samples_ratio]\n",
    "print(normal_samples)"
   ]
  },
  {
   "cell_type": "code",
   "execution_count": 10,
   "id": "e074d7f6",
   "metadata": {},
   "outputs": [
    {
     "name": "stdout",
     "output_type": "stream",
     "text": [
      "[52752 66140 67282 67341]\n"
     ]
    }
   ],
   "source": [
    "cumulative_samples = np.cumsum(normal_samples)\n",
    "print(cumulative_samples)"
   ]
  },
  {
   "cell_type": "code",
   "execution_count": 11,
   "id": "1ff67f4b",
   "metadata": {},
   "outputs": [],
   "source": [
    "n1 = normal_df[0:cumulative_samples[0]]\n",
    "n2 = normal_df[cumulative_samples[0]:cumulative_samples[1]]\n",
    "n3 = normal_df[cumulative_samples[1]:cumulative_samples[2]]\n",
    "n4 = normal_df[cumulative_samples[2]:cumulative_samples[3]]"
   ]
  },
  {
   "cell_type": "code",
   "execution_count": 12,
   "id": "822c1813",
   "metadata": {},
   "outputs": [
    {
     "name": "stdout",
     "output_type": "stream",
     "text": [
      "(52752, 43)\n",
      "(13388, 43)\n",
      "(1142, 43)\n",
      "(59, 43)\n"
     ]
    }
   ],
   "source": [
    "print(n1.shape)\n",
    "print(n2.shape)\n",
    "print(n3.shape)\n",
    "print(n4.shape)"
   ]
  },
  {
   "cell_type": "code",
   "execution_count": 13,
   "id": "2b8cd726",
   "metadata": {},
   "outputs": [],
   "source": [
    "merges = [[dos_df, n1], [probe_df, n2], [r2l_df, n3], [u2r_df, n4]]\n",
    "\n",
    "sets = []\n",
    "for frames in merges:\n",
    "    sets.append(pd.concat(frames))"
   ]
  },
  {
   "cell_type": "code",
   "execution_count": 14,
   "id": "4378b9f3",
   "metadata": {},
   "outputs": [
    {
     "name": "stdout",
     "output_type": "stream",
     "text": [
      "normal    52752\n",
      "dos       45927\n",
      "Name: class, dtype: int64\n",
      "normal    13388\n",
      "probe     11656\n",
      "Name: class, dtype: int64\n",
      "normal    1142\n",
      "r2l        995\n",
      "Name: class, dtype: int64\n",
      "normal    59\n",
      "u2r       52\n",
      "Name: class, dtype: int64\n"
     ]
    }
   ],
   "source": [
    "print(sets[0]['class'].value_counts())\n",
    "print(sets[1]['class'].value_counts())\n",
    "print(sets[2]['class'].value_counts())\n",
    "print(sets[3]['class'].value_counts())"
   ]
  },
  {
   "cell_type": "code",
   "execution_count": 15,
   "id": "4920af66",
   "metadata": {},
   "outputs": [],
   "source": [
    "for i in range(len(sets)):\n",
    "    sets[i].to_csv('data/nsl-splits/set-' + str(i+1) + '.csv')"
   ]
  },
  {
   "cell_type": "code",
   "execution_count": null,
   "id": "9c59cdd1",
   "metadata": {},
   "outputs": [],
   "source": []
  }
 ],
 "metadata": {
  "kernelspec": {
   "display_name": "Python 3",
   "language": "python",
   "name": "python3"
  },
  "language_info": {
   "codemirror_mode": {
    "name": "ipython",
    "version": 3
   },
   "file_extension": ".py",
   "mimetype": "text/x-python",
   "name": "python",
   "nbconvert_exporter": "python",
   "pygments_lexer": "ipython3",
   "version": "3.8.8"
  }
 },
 "nbformat": 4,
 "nbformat_minor": 5
}
