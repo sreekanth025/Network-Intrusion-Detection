{
 "cells": [
  {
   "cell_type": "code",
   "execution_count": 1,
   "id": "0e21a562",
   "metadata": {},
   "outputs": [],
   "source": [
    "import pandas as pd\n",
    "import numpy as np"
   ]
  },
  {
   "cell_type": "code",
   "execution_count": 2,
   "id": "44746695",
   "metadata": {},
   "outputs": [
    {
     "data": {
      "text/html": [
       "<div>\n",
       "<style scoped>\n",
       "    .dataframe tbody tr th:only-of-type {\n",
       "        vertical-align: middle;\n",
       "    }\n",
       "\n",
       "    .dataframe tbody tr th {\n",
       "        vertical-align: top;\n",
       "    }\n",
       "\n",
       "    .dataframe thead th {\n",
       "        text-align: right;\n",
       "    }\n",
       "</style>\n",
       "<table border=\"1\" class=\"dataframe\">\n",
       "  <thead>\n",
       "    <tr style=\"text-align: right;\">\n",
       "      <th></th>\n",
       "      <th>f0</th>\n",
       "      <th>f1</th>\n",
       "      <th>f2</th>\n",
       "      <th>f3</th>\n",
       "      <th>f4</th>\n",
       "      <th>f5</th>\n",
       "      <th>f6</th>\n",
       "      <th>f7</th>\n",
       "      <th>f8</th>\n",
       "      <th>f9</th>\n",
       "      <th>...</th>\n",
       "      <th>f24</th>\n",
       "      <th>f25</th>\n",
       "      <th>f26</th>\n",
       "      <th>f27</th>\n",
       "      <th>f28</th>\n",
       "      <th>f29</th>\n",
       "      <th>f30</th>\n",
       "      <th>f31</th>\n",
       "      <th>f32</th>\n",
       "      <th>class</th>\n",
       "    </tr>\n",
       "  </thead>\n",
       "  <tbody>\n",
       "    <tr>\n",
       "      <th>0</th>\n",
       "      <td>0.0</td>\n",
       "      <td>0.955213</td>\n",
       "      <td>0.000000</td>\n",
       "      <td>0.0</td>\n",
       "      <td>0.000000</td>\n",
       "      <td>0.003891</td>\n",
       "      <td>0.003891</td>\n",
       "      <td>0.000000</td>\n",
       "      <td>0.000000</td>\n",
       "      <td>0.0</td>\n",
       "      <td>...</td>\n",
       "      <td>0.0000</td>\n",
       "      <td>0.0</td>\n",
       "      <td>0.0</td>\n",
       "      <td>0.000000</td>\n",
       "      <td>0.000000</td>\n",
       "      <td>0.0</td>\n",
       "      <td>0.0</td>\n",
       "      <td>0.0</td>\n",
       "      <td>0.000000</td>\n",
       "      <td>normal</td>\n",
       "    </tr>\n",
       "    <tr>\n",
       "      <th>1</th>\n",
       "      <td>0.0</td>\n",
       "      <td>0.496369</td>\n",
       "      <td>0.000000</td>\n",
       "      <td>0.0</td>\n",
       "      <td>0.000000</td>\n",
       "      <td>0.044197</td>\n",
       "      <td>0.003400</td>\n",
       "      <td>0.000000</td>\n",
       "      <td>0.000000</td>\n",
       "      <td>0.0</td>\n",
       "      <td>...</td>\n",
       "      <td>0.0034</td>\n",
       "      <td>0.0</td>\n",
       "      <td>0.0</td>\n",
       "      <td>0.000000</td>\n",
       "      <td>0.000000</td>\n",
       "      <td>0.0</td>\n",
       "      <td>0.0</td>\n",
       "      <td>0.0</td>\n",
       "      <td>0.000000</td>\n",
       "      <td>normal</td>\n",
       "    </tr>\n",
       "    <tr>\n",
       "      <th>2</th>\n",
       "      <td>0.0</td>\n",
       "      <td>0.000000</td>\n",
       "      <td>0.000000</td>\n",
       "      <td>0.0</td>\n",
       "      <td>0.000000</td>\n",
       "      <td>0.432517</td>\n",
       "      <td>0.021098</td>\n",
       "      <td>0.003516</td>\n",
       "      <td>0.003516</td>\n",
       "      <td>0.0</td>\n",
       "      <td>...</td>\n",
       "      <td>0.0000</td>\n",
       "      <td>0.0</td>\n",
       "      <td>0.0</td>\n",
       "      <td>0.000000</td>\n",
       "      <td>0.003516</td>\n",
       "      <td>0.0</td>\n",
       "      <td>0.0</td>\n",
       "      <td>0.0</td>\n",
       "      <td>0.003516</td>\n",
       "      <td>dos</td>\n",
       "    </tr>\n",
       "    <tr>\n",
       "      <th>3</th>\n",
       "      <td>0.0</td>\n",
       "      <td>0.028430</td>\n",
       "      <td>0.999100</td>\n",
       "      <td>0.0</td>\n",
       "      <td>0.000123</td>\n",
       "      <td>0.000613</td>\n",
       "      <td>0.000613</td>\n",
       "      <td>0.000025</td>\n",
       "      <td>0.000025</td>\n",
       "      <td>0.0</td>\n",
       "      <td>...</td>\n",
       "      <td>0.0000</td>\n",
       "      <td>0.0</td>\n",
       "      <td>0.0</td>\n",
       "      <td>0.000123</td>\n",
       "      <td>0.000000</td>\n",
       "      <td>0.0</td>\n",
       "      <td>0.0</td>\n",
       "      <td>0.0</td>\n",
       "      <td>0.000000</td>\n",
       "      <td>normal</td>\n",
       "    </tr>\n",
       "    <tr>\n",
       "      <th>4</th>\n",
       "      <td>0.0</td>\n",
       "      <td>0.337346</td>\n",
       "      <td>0.711986</td>\n",
       "      <td>0.0</td>\n",
       "      <td>0.001695</td>\n",
       "      <td>0.050856</td>\n",
       "      <td>0.054247</td>\n",
       "      <td>0.000000</td>\n",
       "      <td>0.000000</td>\n",
       "      <td>0.0</td>\n",
       "      <td>...</td>\n",
       "      <td>0.0000</td>\n",
       "      <td>0.0</td>\n",
       "      <td>0.0</td>\n",
       "      <td>0.001695</td>\n",
       "      <td>0.000000</td>\n",
       "      <td>0.0</td>\n",
       "      <td>0.0</td>\n",
       "      <td>0.0</td>\n",
       "      <td>0.000000</td>\n",
       "      <td>normal</td>\n",
       "    </tr>\n",
       "  </tbody>\n",
       "</table>\n",
       "<p>5 rows × 34 columns</p>\n",
       "</div>"
      ],
      "text/plain": [
       "    f0        f1        f2   f3        f4        f5        f6        f7  \\\n",
       "0  0.0  0.955213  0.000000  0.0  0.000000  0.003891  0.003891  0.000000   \n",
       "1  0.0  0.496369  0.000000  0.0  0.000000  0.044197  0.003400  0.000000   \n",
       "2  0.0  0.000000  0.000000  0.0  0.000000  0.432517  0.021098  0.003516   \n",
       "3  0.0  0.028430  0.999100  0.0  0.000123  0.000613  0.000613  0.000025   \n",
       "4  0.0  0.337346  0.711986  0.0  0.001695  0.050856  0.054247  0.000000   \n",
       "\n",
       "         f8   f9  ...     f24  f25  f26       f27       f28  f29  f30  f31  \\\n",
       "0  0.000000  0.0  ...  0.0000  0.0  0.0  0.000000  0.000000  0.0  0.0  0.0   \n",
       "1  0.000000  0.0  ...  0.0034  0.0  0.0  0.000000  0.000000  0.0  0.0  0.0   \n",
       "2  0.003516  0.0  ...  0.0000  0.0  0.0  0.000000  0.003516  0.0  0.0  0.0   \n",
       "3  0.000025  0.0  ...  0.0000  0.0  0.0  0.000123  0.000000  0.0  0.0  0.0   \n",
       "4  0.000000  0.0  ...  0.0000  0.0  0.0  0.001695  0.000000  0.0  0.0  0.0   \n",
       "\n",
       "        f32   class  \n",
       "0  0.000000  normal  \n",
       "1  0.000000  normal  \n",
       "2  0.003516     dos  \n",
       "3  0.000000  normal  \n",
       "4  0.000000  normal  \n",
       "\n",
       "[5 rows x 34 columns]"
      ]
     },
     "execution_count": 2,
     "metadata": {},
     "output_type": "execute_result"
    }
   ],
   "source": [
    "nsl_kdd = pd.read_csv(\"data/nsl_kdd_normalized.csv\")\n",
    "nsl_kdd.head()"
   ]
  },
  {
   "cell_type": "code",
   "execution_count": 3,
   "id": "485f51b3",
   "metadata": {},
   "outputs": [
    {
     "data": {
      "text/plain": [
       "count     125973\n",
       "unique         5\n",
       "top       normal\n",
       "freq       67343\n",
       "Name: class, dtype: object"
      ]
     },
     "execution_count": 3,
     "metadata": {},
     "output_type": "execute_result"
    }
   ],
   "source": [
    "nsl_kdd['class'].describe()"
   ]
  },
  {
   "cell_type": "code",
   "execution_count": 4,
   "id": "f7a3f6c2",
   "metadata": {},
   "outputs": [
    {
     "data": {
      "text/plain": [
       "normal    67343\n",
       "dos       45927\n",
       "probe     11656\n",
       "r2l         995\n",
       "u2r          52\n",
       "Name: class, dtype: int64"
      ]
     },
     "execution_count": 4,
     "metadata": {},
     "output_type": "execute_result"
    }
   ],
   "source": [
    "nsl_kdd['class'].value_counts()"
   ]
  },
  {
   "cell_type": "code",
   "execution_count": 5,
   "id": "4954148d",
   "metadata": {},
   "outputs": [],
   "source": [
    "dos_df = nsl_kdd.loc[nsl_kdd['class'] == 'dos']\n",
    "probe_df = nsl_kdd.loc[nsl_kdd['class'] == 'probe']\n",
    "r2l_df = nsl_kdd.loc[nsl_kdd['class'] == 'r2l']\n",
    "u2r_df = nsl_kdd.loc[nsl_kdd['class'] == 'u2r']\n",
    "normal_df = nsl_kdd.loc[nsl_kdd['class'] == 'normal']"
   ]
  },
  {
   "cell_type": "code",
   "execution_count": 6,
   "id": "4d962d0a",
   "metadata": {},
   "outputs": [
    {
     "name": "stdout",
     "output_type": "stream",
     "text": [
      "[45927, 11656, 995, 52]\n"
     ]
    }
   ],
   "source": [
    "attack_samples = []\n",
    "\n",
    "attack_samples.append(dos_df.shape[0])\n",
    "attack_samples.append(probe_df.shape[0])\n",
    "attack_samples.append(r2l_df.shape[0])\n",
    "attack_samples.append(u2r_df.shape[0])\n",
    "\n",
    "print(attack_samples)"
   ]
  },
  {
   "cell_type": "code",
   "execution_count": 7,
   "id": "15da53a9",
   "metadata": {},
   "outputs": [],
   "source": [
    "def normalize(arr):\n",
    "    total_sum = sum(arr)\n",
    "    result = [x/total_sum for x in arr]\n",
    "    return result"
   ]
  },
  {
   "cell_type": "code",
   "execution_count": 8,
   "id": "0a7187ed",
   "metadata": {},
   "outputs": [
    {
     "name": "stdout",
     "output_type": "stream",
     "text": [
      "[0.7833361760191029, 0.1988060719768037, 0.016970834044004776, 0.0008869179600886918]\n"
     ]
    }
   ],
   "source": [
    "samples_ratio = normalize(attack_samples)\n",
    "print(samples_ratio)"
   ]
  },
  {
   "cell_type": "code",
   "execution_count": 9,
   "id": "593e2b3f",
   "metadata": {},
   "outputs": [
    {
     "name": "stdout",
     "output_type": "stream",
     "text": [
      "[52752, 13388, 1142, 59]\n"
     ]
    }
   ],
   "source": [
    "normal_samples = [int(normal_df.shape[0] * i) for i in samples_ratio]\n",
    "print(normal_samples)"
   ]
  },
  {
   "cell_type": "code",
   "execution_count": 10,
   "id": "e074d7f6",
   "metadata": {},
   "outputs": [
    {
     "name": "stdout",
     "output_type": "stream",
     "text": [
      "[52752 66140 67282 67341]\n"
     ]
    }
   ],
   "source": [
    "cumulative_samples = np.cumsum(normal_samples)\n",
    "print(cumulative_samples)"
   ]
  },
  {
   "cell_type": "code",
   "execution_count": 11,
   "id": "1ff67f4b",
   "metadata": {},
   "outputs": [],
   "source": [
    "n1 = normal_df[0:cumulative_samples[0]]\n",
    "n2 = normal_df[cumulative_samples[0]:cumulative_samples[1]]\n",
    "n3 = normal_df[cumulative_samples[1]:cumulative_samples[2]]\n",
    "n4 = normal_df[cumulative_samples[2]:cumulative_samples[3]]"
   ]
  },
  {
   "cell_type": "code",
   "execution_count": 12,
   "id": "822c1813",
   "metadata": {},
   "outputs": [
    {
     "name": "stdout",
     "output_type": "stream",
     "text": [
      "(52752, 34)\n",
      "(13388, 34)\n",
      "(1142, 34)\n",
      "(59, 34)\n"
     ]
    }
   ],
   "source": [
    "print(n1.shape)\n",
    "print(n2.shape)\n",
    "print(n3.shape)\n",
    "print(n4.shape)"
   ]
  },
  {
   "cell_type": "code",
   "execution_count": 13,
   "id": "2b8cd726",
   "metadata": {},
   "outputs": [],
   "source": [
    "merges = [[dos_df, n1], [probe_df, n2], [r2l_df, n3], [u2r_df, n4]]\n",
    "\n",
    "sets = []\n",
    "for frames in merges:\n",
    "    sets.append(pd.concat(frames))"
   ]
  },
  {
   "cell_type": "code",
   "execution_count": 14,
   "id": "4378b9f3",
   "metadata": {},
   "outputs": [
    {
     "name": "stdout",
     "output_type": "stream",
     "text": [
      "normal    52752\n",
      "dos       45927\n",
      "Name: class, dtype: int64\n",
      "normal    13388\n",
      "probe     11656\n",
      "Name: class, dtype: int64\n",
      "normal    1142\n",
      "r2l        995\n",
      "Name: class, dtype: int64\n",
      "normal    59\n",
      "u2r       52\n",
      "Name: class, dtype: int64\n"
     ]
    }
   ],
   "source": [
    "print(sets[0]['class'].value_counts())\n",
    "print(sets[1]['class'].value_counts())\n",
    "print(sets[2]['class'].value_counts())\n",
    "print(sets[3]['class'].value_counts())"
   ]
  },
  {
   "cell_type": "code",
   "execution_count": 15,
   "id": "4920af66",
   "metadata": {},
   "outputs": [],
   "source": [
    "for i in range(len(sets)):\n",
    "    sets[i].to_csv('data/nsl-splits/set-' + str(i+1) + '.csv', index=False)"
   ]
  },
  {
   "cell_type": "code",
   "execution_count": null,
   "id": "9c59cdd1",
   "metadata": {},
   "outputs": [],
   "source": []
  }
 ],
 "metadata": {
  "kernelspec": {
   "display_name": "Python 3",
   "language": "python",
   "name": "python3"
  },
  "language_info": {
   "codemirror_mode": {
    "name": "ipython",
    "version": 3
   },
   "file_extension": ".py",
   "mimetype": "text/x-python",
   "name": "python",
   "nbconvert_exporter": "python",
   "pygments_lexer": "ipython3",
   "version": "3.8.8"
  }
 },
 "nbformat": 4,
 "nbformat_minor": 5
}
